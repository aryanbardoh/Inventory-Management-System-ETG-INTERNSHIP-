{
 "cells": [
  {
   "cell_type": "code",
   "execution_count": 1,
   "source": [
    "import json"
   ],
   "outputs": [],
   "metadata": {}
  },
  {
   "cell_type": "code",
   "execution_count": 2,
   "source": [
    "fd = open('record.json','r')\r\n",
    "txt = fd.read()\r\n",
    "fd.close()"
   ],
   "outputs": [],
   "metadata": {}
  },
  {
   "cell_type": "code",
   "execution_count": 3,
   "source": [
    "record = json.loads(txt)"
   ],
   "outputs": [],
   "metadata": {}
  },
  {
   "cell_type": "markdown",
   "source": [
    "For Adding to the inventory"
   ],
   "metadata": {}
  },
  {
   "cell_type": "code",
   "execution_count": 5,
   "source": [
    "prod_id = str(input(\"Enter product id:\"))\r\n",
    "name = str(input(\"Enter name:\"))\r\n",
    "pr = int(input(\"Enter price:\"))\r\n",
    "qn = int(input(\"Enter quantity:\"))\r\n",
    "\r\n",
    "record[prod_id] = {'name': name, 'pr': pr, 'qn': qn}\r\n",
    "\r\n",
    "js = json.dumps(record)\r\n",
    "\r\n",
    "fd = open(\"record.json\",'w')\r\n",
    "fd.write(js)\r\n",
    "fd.close()"
   ],
   "outputs": [],
   "metadata": {}
  },
  {
   "cell_type": "markdown",
   "source": [
    "For updating the product list in the existing record"
   ],
   "metadata": {}
  },
  {
   "cell_type": "code",
   "execution_count": 6,
   "source": [
    "lst = list(record.keys())"
   ],
   "outputs": [],
   "metadata": {}
  },
  {
   "cell_type": "code",
   "execution_count": 8,
   "source": [
    "p_code = input('Enter the product ID:')\r\n",
    "for i in lst:\r\n",
    "    if(i == p_code):\r\n",
    "        opt = int(input('1)Type 1 to update product name:\\n2)Type 2 to update product quantity:\\n3)Type 3 to update product price:'))\r\n",
    "        if (opt == 1):\r\n",
    "        ## For updating the product name in the existing record  \r\n",
    "            product = input('Enter the product name:')\r\n",
    "            record[p_code]['product']= product \r\n",
    "            break;\r\n",
    "        if (opt == 2):\r\n",
    "        ## For updating the product quantity in the existing record\r\n",
    "            quantity = int(input('Enter the product quantity to be added:'))\r\n",
    "            quant = record[p_code]['quantity'] + quantity\r\n",
    "            record[p_code]['quantity'] = quant\r\n",
    "            break;\r\n",
    "        if (opt == 3):\r\n",
    "        ## For updating the product price in the existing record\r\n",
    "            price = input('Enter the product price:\\n')    \r\n",
    "            record[p_code]['price'] = price\r\n",
    "            break;\r\n",
    "        else:\r\n",
    "            print('wrong input')\r\n",
    "            break;\r\n",
    "    else:\r\n",
    "        print(\"Product I'd is wrong OR no such product is available with this product I'd \")\r\n",
    "        break;"
   ],
   "outputs": [
    {
     "output_type": "stream",
     "name": "stdout",
     "text": [
      "Product I'd is wrong OR no such product is available with this product I'd \n"
     ]
    }
   ],
   "metadata": {}
  },
  {
   "cell_type": "code",
   "execution_count": null,
   "source": [],
   "outputs": [],
   "metadata": {}
  }
 ],
 "metadata": {
  "orig_nbformat": 4,
  "language_info": {
   "name": "python",
   "version": "3.9.6",
   "mimetype": "text/x-python",
   "codemirror_mode": {
    "name": "ipython",
    "version": 3
   },
   "pygments_lexer": "ipython3",
   "nbconvert_exporter": "python",
   "file_extension": ".py"
  },
  "kernelspec": {
   "name": "python3",
   "display_name": "Python 3.9.6 64-bit"
  },
  "interpreter": {
   "hash": "a12d694c3ccac42055183a0ad11e659c6a2db5c6555ad2c8919d5814fd4e404f"
  }
 },
 "nbformat": 4,
 "nbformat_minor": 2
}