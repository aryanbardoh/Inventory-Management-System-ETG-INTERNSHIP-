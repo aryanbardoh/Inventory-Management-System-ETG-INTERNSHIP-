{
 "cells": [
  {
   "cell_type": "code",
   "execution_count": 24,
   "source": [
    "import json\r\n",
    "\r\n",
    "fd = open(\"record.json\",'r')\r\n",
    "r = fd.read()\r\n",
    "fd.close()\r\n",
    "\r\n",
    "record = json.loads(r)\r\n"
   ],
   "outputs": [],
   "metadata": {}
  },
  {
   "cell_type": "code",
   "execution_count": 25,
   "source": [
    "\r\n",
    "prod_id = str(input(\"Enter product id:\"))\r\n",
    "name = str(input(\"Enter name:\"))\r\n",
    "pr = int(input(\"Enter price:\"))\r\n",
    "qn = int(input(\"Enter quantity:\"))\r\n",
    "\r\n",
    "record[prod_id] = {'name': name, 'pr': pr, 'qn': qn}\r\n",
    "\r\n",
    "js = json.dumps(record)\r\n",
    "\r\n",
    "fd = open(\"record.json\",'w')\r\n",
    "fd.write(js)\r\n",
    "fd.close()"
   ],
   "outputs": [],
   "metadata": {}
  },
  {
   "cell_type": "code",
   "execution_count": 26,
   "source": [
    "record"
   ],
   "outputs": [
    {
     "output_type": "execute_result",
     "data": {
      "text/plain": [
       "{'1001': {'name': 'Choco Cake', 'qn': 34, 'pr': 100},\n",
       " '1002': {'name': 'Milk Cake', 'pr': 800, 'qn': 100},\n",
       " '1003': {'name': 'Drink', 'pr': 85, 'qn': 100},\n",
       " '1004': {'name': 'Candy', 'pr': 5, 'qn': 1000},\n",
       " '1005': {'name': 'Pen', 'pr': 20, 'qn': 100},\n",
       " '1006': {'name': 'Phone', 'pr': 50000, 'qn': 10},\n",
       " '1007': {'name': 'Mic', 'pr': 1500, 'qn': 0},\n",
       " '1008': {'name': 'Case', 'pr': 599, 'qn': 5},\n",
       " '1009': {'name': 'Keyboard', 'pr': 1999, 'qn': 10},\n",
       " '1010': {'name': 'pen', 'pr': 10, 'qn': 100}}"
      ]
     },
     "metadata": {},
     "execution_count": 26
    }
   ],
   "metadata": {}
  },
  {
   "cell_type": "code",
   "execution_count": 28,
   "source": [
    "prod_id = str(input(\"Enter product id:\"))\r\n",
    "name = str(input(\"Enter name:\"))\r\n",
    "pr = int(input(\"Enter price:\"))\r\n",
    "qn = int(input(\"Enter quantity:\"))\r\n",
    "\r\n",
    "record[prod_id] = {'name': name, 'pr': pr, 'qn': qn}\r\n",
    "\r\n",
    "js = json.dumps(record)\r\n",
    "\r\n",
    "fd = open(\"record.json\",'w')\r\n",
    "fd.write(js)\r\n",
    "fd.close()"
   ],
   "outputs": [],
   "metadata": {}
  },
  {
   "cell_type": "code",
   "execution_count": 29,
   "source": [
    "record"
   ],
   "outputs": [
    {
     "output_type": "execute_result",
     "data": {
      "text/plain": [
       "{'1001': {'name': 'Choco Cake', 'qn': 34, 'pr': 100},\n",
       " '1002': {'name': 'Milk Cake', 'pr': 800, 'qn': 100},\n",
       " '1003': {'name': 'Drink', 'pr': 85, 'qn': 100},\n",
       " '1004': {'name': 'Candy', 'pr': 5, 'qn': 1000},\n",
       " '1005': {'name': 'Pen', 'pr': 20, 'qn': 100},\n",
       " '1006': {'name': 'Phone', 'pr': 50000, 'qn': 10},\n",
       " '1007': {'name': 'Mic', 'pr': 1500, 'qn': 0},\n",
       " '1008': {'name': 'Case', 'pr': 599, 'qn': 5},\n",
       " '1009': {'name': 'Keyboard', 'pr': 1999, 'qn': 10},\n",
       " '1010': {'name': 'pen', 'pr': 10, 'qn': 100},\n",
       " '1012': {'name': 'shirts', 'pr': 600, 'qn': 30},\n",
       " '1013': {'name': 'pants', 'pr': 1000, 'qn': 60}}"
      ]
     },
     "metadata": {},
     "execution_count": 29
    }
   ],
   "metadata": {}
  },
  {
   "cell_type": "code",
   "execution_count": null,
   "source": [],
   "outputs": [],
   "metadata": {}
  }
 ],
 "metadata": {
  "orig_nbformat": 4,
  "language_info": {
   "name": "python",
   "version": "3.9.6",
   "mimetype": "text/x-python",
   "codemirror_mode": {
    "name": "ipython",
    "version": 3
   },
   "pygments_lexer": "ipython3",
   "nbconvert_exporter": "python",
   "file_extension": ".py"
  },
  "kernelspec": {
   "name": "python3",
   "display_name": "Python 3.9.6 64-bit"
  },
  "interpreter": {
   "hash": "a12d694c3ccac42055183a0ad11e659c6a2db5c6555ad2c8919d5814fd4e404f"
  }
 },
 "nbformat": 4,
 "nbformat_minor": 2
}